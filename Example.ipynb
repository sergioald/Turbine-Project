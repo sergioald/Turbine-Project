{
 "cells": [
  {
   "cell_type": "markdown",
   "id": "2641e264",
   "metadata": {},
   "source": [
    "# Data Analysis The Wind Turbine Project"
   ]
  },
  {
   "cell_type": "markdown",
   "id": "71ab61be",
   "metadata": {},
   "source": [
    "You will learn how to use the Pandas python library to analyse data"
   ]
  },
  {
   "cell_type": "markdown",
   "id": "10fb3caf",
   "metadata": {},
   "source": [
    "### Table of Contents\n",
    "\n",
    "* [Loading Data One File](#chapter1)\n",
    "    * [Loading libreraies](#section_1_1)\n",
    "    * [Finding files ](#section_1_2)\n",
    "    * [Read First files](#section_1_3)\n",
    "    * [Plots](#section_1_4)\n",
    "    * [Resample Data](#section_1_5)\n",
    "    * [Do the computationss](#section_1_6)\n",
    "    * [Get absolute mean value](#section_1_7)\n",
    "* [Work with all the files](#chapter2)\n",
    "    * [Read, Compute and Join](#section_2_1) \n",
    "    * [Get final values](#section_2_2)\n",
    "    * [Final plots](#section_2_2)"
   ]
  },
  {
   "cell_type": "markdown",
   "id": "b4488506",
   "metadata": {},
   "source": [
    "## Loading Data One File <a class=\"anchor\" id=\"chapter1\"></a>"
   ]
  },
  {
   "cell_type": "markdown",
   "id": "76b175be",
   "metadata": {},
   "source": [
    "### Loading libreraies <a class=\"anchor\" id=\"section_1_1\"></a>"
   ]
  },
  {
   "cell_type": "markdown",
   "id": "b7c1cbb5",
   "metadata": {},
   "source": [
    "Phyton works with many different libraries, each libreary allow us to perform different task. In the Data Science world, one of the most popular and powerful library is Pandas (https://pandas.pydata.org/). In this notebook, we will use mainly this library to see how can we process, manipulate and easily analyse a lot of data. "
   ]
  },
  {
   "cell_type": "code",
   "execution_count": 1,
   "id": "5ccff93f",
   "metadata": {},
   "outputs": [],
   "source": [
    "# Pandas is similar to excel so you can work with Data Frames\n",
    "import pandas as pd\n",
    "#OS refers to the operative system\n",
    "import os\n",
    "#Get the pi constant value\n",
    "from math import pi"
   ]
  },
  {
   "cell_type": "markdown",
   "id": "f1ad3e6d",
   "metadata": {},
   "source": [
    "### Finding files<a class=\"anchor\" id=\"section_1_2\"></a>"
   ]
  },
  {
   "cell_type": "markdown",
   "id": "ad217f86",
   "metadata": {},
   "source": [
    "In the case we have many different files in one (our case) or many different directories, the first thing we need to do, is to retrieve all these documents."
   ]
  },
  {
   "cell_type": "code",
   "execution_count": 2,
   "id": "39aac664",
   "metadata": {},
   "outputs": [
    {
     "name": "stdout",
     "output_type": "stream",
     "text": [
      "['.ipynb_checkpoints', 'TA001.csv', 'TA002.csv', 'TA003.csv', 'TA004.csv', 'TA005.csv', 'TA006.csv', 'TA007.csv', 'TA008.csv', 'TA009.csv', 'TA010.csv', 'TA011.csv', 'TA012.csv', 'TA013.csv', 'TA014.csv', 'TA015.csv', 'TA016.csv', 'Untitled.ipynb', 'zero004.csv', 'zero005.csv', 'zero006.csv', 'Zero201808140001.csv', 'Zero201808140002.csv']\n"
     ]
    }
   ],
   "source": [
    "#Get the list of files in the working directory\n",
    "All_files=os.listdir('.')\n",
    "print(All_files)"
   ]
  },
  {
   "cell_type": "code",
   "execution_count": 3,
   "id": "9530a4b7",
   "metadata": {},
   "outputs": [
    {
     "name": "stdout",
     "output_type": "stream",
     "text": [
      "['TA001.csv', 'TA002.csv', 'TA003.csv', 'TA004.csv', 'TA005.csv', 'TA006.csv', 'TA007.csv', 'TA008.csv', 'TA009.csv', 'TA010.csv', 'TA011.csv', 'TA012.csv', 'TA013.csv', 'TA014.csv', 'TA015.csv', 'TA016.csv']\n"
     ]
    }
   ],
   "source": [
    "# Select just the TAXXX.csv files \n",
    "TA_files= [f for f in All_files if ('TA'  in f) and (f.endswith('.csv'))]\n",
    "print(TA_files)"
   ]
  },
  {
   "cell_type": "markdown",
   "id": "cdab47b3",
   "metadata": {},
   "source": [
    "### Read First file<a class=\"anchor\" id=\"section_1_3\"></a>"
   ]
  },
  {
   "cell_type": "markdown",
   "id": "0d6ee1b0",
   "metadata": {},
   "source": [
    "From this point we will start to analyze one single file, we will try to extract the data that is inside this file. The idea is to try to figure out what type of data are we dealing with, the integrity of the data and make ourselves a general idea of the data. "
   ]
  },
  {
   "cell_type": "code",
   "execution_count": 4,
   "id": "55f69916",
   "metadata": {},
   "outputs": [
    {
     "data": {
      "text/html": [
       "<div>\n",
       "<style scoped>\n",
       "    .dataframe tbody tr th:only-of-type {\n",
       "        vertical-align: middle;\n",
       "    }\n",
       "\n",
       "    .dataframe tbody tr th {\n",
       "        vertical-align: top;\n",
       "    }\n",
       "\n",
       "    .dataframe thead th {\n",
       "        text-align: right;\n",
       "    }\n",
       "</style>\n",
       "<table border=\"1\" class=\"dataframe\">\n",
       "  <thead>\n",
       "    <tr style=\"text-align: right;\">\n",
       "      <th></th>\n",
       "      <th>Time</th>\n",
       "      <th>RPM</th>\n",
       "      <th>TRQU</th>\n",
       "    </tr>\n",
       "  </thead>\n",
       "  <tbody>\n",
       "    <tr>\n",
       "      <th>0</th>\n",
       "      <td>0.000000</td>\n",
       "      <td>inf</td>\n",
       "      <td>-10.994894</td>\n",
       "    </tr>\n",
       "    <tr>\n",
       "      <th>1</th>\n",
       "      <td>0.003906</td>\n",
       "      <td>90.043968</td>\n",
       "      <td>-11.167003</td>\n",
       "    </tr>\n",
       "    <tr>\n",
       "      <th>2</th>\n",
       "      <td>0.007812</td>\n",
       "      <td>89.062500</td>\n",
       "      <td>-10.904742</td>\n",
       "    </tr>\n",
       "    <tr>\n",
       "      <th>3</th>\n",
       "      <td>0.011719</td>\n",
       "      <td>89.956078</td>\n",
       "      <td>-11.220274</td>\n",
       "    </tr>\n",
       "    <tr>\n",
       "      <th>4</th>\n",
       "      <td>0.015625</td>\n",
       "      <td>90.043968</td>\n",
       "      <td>-11.585353</td>\n",
       "    </tr>\n",
       "  </tbody>\n",
       "</table>\n",
       "</div>"
      ],
      "text/plain": [
       "       Time        RPM       TRQU\n",
       "0  0.000000        inf -10.994894\n",
       "1  0.003906  90.043968 -11.167003\n",
       "2  0.007812  89.062500 -10.904742\n",
       "3  0.011719  89.956078 -11.220274\n",
       "4  0.015625  90.043968 -11.585353"
      ]
     },
     "execution_count": 4,
     "metadata": {},
     "output_type": "execute_result"
    }
   ],
   "source": [
    "#Read the first file\n",
    "# Phyton reads from 0\n",
    "data_exp=pd.read_csv(TA_files[0])\n",
    "#Explore the data\n",
    "data_exp.head()"
   ]
  },
  {
   "cell_type": "code",
   "execution_count": 5,
   "id": "f24d5c2c",
   "metadata": {},
   "outputs": [
    {
     "data": {
      "text/plain": [
       "Time    float64\n",
       "RPM     float64\n",
       "TRQU    float64\n",
       "dtype: object"
      ]
     },
     "execution_count": 5,
     "metadata": {},
     "output_type": "execute_result"
    }
   ],
   "source": [
    "#Explore the data type\n",
    "data_exp.dtypes"
   ]
  },
  {
   "cell_type": "code",
   "execution_count": 6,
   "id": "bd9a559d",
   "metadata": {},
   "outputs": [
    {
     "data": {
      "text/plain": [
       "(76800, 3)"
      ]
     },
     "execution_count": 6,
     "metadata": {},
     "output_type": "execute_result"
    }
   ],
   "source": [
    "#Check how many data point we have rows, columns\n",
    "data_exp.shape"
   ]
  },
  {
   "cell_type": "code",
   "execution_count": 7,
   "id": "b85b52cb",
   "metadata": {},
   "outputs": [
    {
     "name": "stdout",
     "output_type": "stream",
     "text": [
      "<class 'pandas.core.frame.DataFrame'>\n",
      "RangeIndex: 76800 entries, 0 to 76799\n",
      "Data columns (total 3 columns):\n",
      " #   Column  Non-Null Count  Dtype  \n",
      "---  ------  --------------  -----  \n",
      " 0   Time    76800 non-null  float64\n",
      " 1   RPM     76800 non-null  float64\n",
      " 2   TRQU    76800 non-null  float64\n",
      "dtypes: float64(3)\n",
      "memory usage: 1.8 MB\n"
     ]
    }
   ],
   "source": [
    "#See the basic information of the Data frame\n",
    "data_exp.info()"
   ]
  },
  {
   "cell_type": "code",
   "execution_count": 8,
   "id": "300d0d54",
   "metadata": {},
   "outputs": [],
   "source": [
    "# Define Infinity values as \"Not a Number\".\n",
    "pd.set_option('use_inf_as_na', True)"
   ]
  },
  {
   "cell_type": "code",
   "execution_count": 9,
   "id": "d9946a94",
   "metadata": {},
   "outputs": [],
   "source": [
    "#Delete all Na values\n",
    "data_exp.dropna(inplace=True)"
   ]
  },
  {
   "cell_type": "code",
   "execution_count": 10,
   "id": "73208a36",
   "metadata": {},
   "outputs": [
    {
     "data": {
      "text/plain": [
       "(76799, 3)"
      ]
     },
     "execution_count": 10,
     "metadata": {},
     "output_type": "execute_result"
    }
   ],
   "source": [
    "#Check how many data point we have rows, columns\n",
    "data_exp.shape"
   ]
  },
  {
   "cell_type": "code",
   "execution_count": 11,
   "id": "2f87265c",
   "metadata": {},
   "outputs": [
    {
     "data": {
      "text/html": [
       "<div>\n",
       "<style scoped>\n",
       "    .dataframe tbody tr th:only-of-type {\n",
       "        vertical-align: middle;\n",
       "    }\n",
       "\n",
       "    .dataframe tbody tr th {\n",
       "        vertical-align: top;\n",
       "    }\n",
       "\n",
       "    .dataframe thead th {\n",
       "        text-align: right;\n",
       "    }\n",
       "</style>\n",
       "<table border=\"1\" class=\"dataframe\">\n",
       "  <thead>\n",
       "    <tr style=\"text-align: right;\">\n",
       "      <th></th>\n",
       "      <th>Time</th>\n",
       "      <th>RPM</th>\n",
       "      <th>TRQU</th>\n",
       "    </tr>\n",
       "  </thead>\n",
       "  <tbody>\n",
       "    <tr>\n",
       "      <th>count</th>\n",
       "      <td>76799.000000</td>\n",
       "      <td>76799.000000</td>\n",
       "      <td>76799.000000</td>\n",
       "    </tr>\n",
       "    <tr>\n",
       "      <th>mean</th>\n",
       "      <td>150.000000</td>\n",
       "      <td>89.815969</td>\n",
       "      <td>-13.368563</td>\n",
       "    </tr>\n",
       "    <tr>\n",
       "      <th>std</th>\n",
       "      <td>86.601977</td>\n",
       "      <td>1.381705</td>\n",
       "      <td>1.964682</td>\n",
       "    </tr>\n",
       "    <tr>\n",
       "      <th>min</th>\n",
       "      <td>0.003906</td>\n",
       "      <td>83.274857</td>\n",
       "      <td>-40.590091</td>\n",
       "    </tr>\n",
       "    <tr>\n",
       "      <th>25%</th>\n",
       "      <td>75.001953</td>\n",
       "      <td>89.062500</td>\n",
       "      <td>-14.175920</td>\n",
       "    </tr>\n",
       "    <tr>\n",
       "      <th>50%</th>\n",
       "      <td>150.000000</td>\n",
       "      <td>90.000000</td>\n",
       "      <td>-13.384668</td>\n",
       "    </tr>\n",
       "    <tr>\n",
       "      <th>75%</th>\n",
       "      <td>224.998047</td>\n",
       "      <td>90.937500</td>\n",
       "      <td>-12.589319</td>\n",
       "    </tr>\n",
       "    <tr>\n",
       "      <th>max</th>\n",
       "      <td>299.996094</td>\n",
       "      <td>95.625000</td>\n",
       "      <td>15.841724</td>\n",
       "    </tr>\n",
       "  </tbody>\n",
       "</table>\n",
       "</div>"
      ],
      "text/plain": [
       "               Time           RPM          TRQU\n",
       "count  76799.000000  76799.000000  76799.000000\n",
       "mean     150.000000     89.815969    -13.368563\n",
       "std       86.601977      1.381705      1.964682\n",
       "min        0.003906     83.274857    -40.590091\n",
       "25%       75.001953     89.062500    -14.175920\n",
       "50%      150.000000     90.000000    -13.384668\n",
       "75%      224.998047     90.937500    -12.589319\n",
       "max      299.996094     95.625000     15.841724"
      ]
     },
     "execution_count": 11,
     "metadata": {},
     "output_type": "execute_result"
    }
   ],
   "source": [
    "#Describe the Data Frame\n",
    "data_exp.describe()"
   ]
  },
  {
   "cell_type": "markdown",
   "id": "4fbb5089",
   "metadata": {},
   "source": [
    "### Plots <a class=\"anchor\" id=\"section_1_4\"></a>"
   ]
  },
  {
   "cell_type": "code",
   "execution_count": 12,
   "id": "b1785279",
   "metadata": {},
   "outputs": [
    {
     "data": {
      "text/plain": [
       "<AxesSubplot:>"
      ]
     },
     "execution_count": 12,
     "metadata": {},
     "output_type": "execute_result"
    },
    {
     "data": {
      "image/png": "[encoded data removed]",
      "text/plain": [
       "<Figure size 432x288 with 1 Axes>"
      ]
     },
     "metadata": {
      "needs_background": "light"
     },
     "output_type": "display_data"
    }
   ],
   "source": [
    "data_exp.plot()"
   ]
  },
  {
   "cell_type": "code",
   "execution_count": 13,
   "id": "cb736cf2",
   "metadata": {},
   "outputs": [],
   "source": [
    "#Lests convert Column \"Time\" into seconds\n",
    "data_exp['Time']=pd.to_timedelta(data_exp['Time'], unit='seconds') "
   ]
  },
  {
   "cell_type": "code",
   "execution_count": 14,
   "id": "9c4be3ce",
   "metadata": {},
   "outputs": [],
   "source": [
    "#Make the time to be our index\n",
    "data_exp.set_index('Time',inplace=True)"
   ]
  },
  {
   "cell_type": "code",
   "execution_count": 15,
   "id": "661a82af",
   "metadata": {},
   "outputs": [
    {
     "data": {
      "text/html": [
       "<div>\n",
       "<style scoped>\n",
       "    .dataframe tbody tr th:only-of-type {\n",
       "        vertical-align: middle;\n",
       "    }\n",
       "\n",
       "    .dataframe tbody tr th {\n",
       "        vertical-align: top;\n",
       "    }\n",
       "\n",
       "    .dataframe thead th {\n",
       "        text-align: right;\n",
       "    }\n",
       "</style>\n",
       "<table border=\"1\" class=\"dataframe\">\n",
       "  <thead>\n",
       "    <tr style=\"text-align: right;\">\n",
       "      <th></th>\n",
       "      <th>RPM</th>\n",
       "      <th>TRQU</th>\n",
       "    </tr>\n",
       "    <tr>\n",
       "      <th>Time</th>\n",
       "      <th></th>\n",
       "      <th></th>\n",
       "    </tr>\n",
       "  </thead>\n",
       "  <tbody>\n",
       "    <tr>\n",
       "      <th>0 days 00:00:00.003906250</th>\n",
       "      <td>90.043968</td>\n",
       "      <td>-11.167003</td>\n",
       "    </tr>\n",
       "    <tr>\n",
       "      <th>0 days 00:00:00.007812500</th>\n",
       "      <td>89.062500</td>\n",
       "      <td>-10.904742</td>\n",
       "    </tr>\n",
       "    <tr>\n",
       "      <th>0 days 00:00:00.011718750</th>\n",
       "      <td>89.956078</td>\n",
       "      <td>-11.220274</td>\n",
       "    </tr>\n",
       "    <tr>\n",
       "      <th>0 days 00:00:00.015625</th>\n",
       "      <td>90.043968</td>\n",
       "      <td>-11.585353</td>\n",
       "    </tr>\n",
       "    <tr>\n",
       "      <th>0 days 00:00:00.019531250</th>\n",
       "      <td>89.956078</td>\n",
       "      <td>-11.585353</td>\n",
       "    </tr>\n",
       "  </tbody>\n",
       "</table>\n",
       "</div>"
      ],
      "text/plain": [
       "                                 RPM       TRQU\n",
       "Time                                           \n",
       "0 days 00:00:00.003906250  90.043968 -11.167003\n",
       "0 days 00:00:00.007812500  89.062500 -10.904742\n",
       "0 days 00:00:00.011718750  89.956078 -11.220274\n",
       "0 days 00:00:00.015625     90.043968 -11.585353\n",
       "0 days 00:00:00.019531250  89.956078 -11.585353"
      ]
     },
     "execution_count": 15,
     "metadata": {},
     "output_type": "execute_result"
    }
   ],
   "source": [
    "data_exp.head()"
   ]
  },
  {
   "cell_type": "code",
   "execution_count": 16,
   "id": "994fc4c2",
   "metadata": {},
   "outputs": [
    {
     "data": {
      "text/plain": [
       "<AxesSubplot:xlabel='Time'>"
      ]
     },
     "execution_count": 16,
     "metadata": {},
     "output_type": "execute_result"
    },
    {
     "data": {
      "image/png": "[encoded data removed]",
      "text/plain": [
       "<Figure size 432x288 with 1 Axes>"
      ]
     },
     "metadata": {
      "needs_background": "light"
     },
     "output_type": "display_data"
    }
   ],
   "source": [
    "data_exp.plot()"
   ]
  },
  {
   "cell_type": "code",
   "execution_count": 17,
   "id": "2fde7463",
   "metadata": {},
   "outputs": [
    {
     "data": {
      "text/plain": [
       "<AxesSubplot:xlabel='Time'>"
      ]
     },
     "execution_count": 17,
     "metadata": {},
     "output_type": "execute_result"
    },
    {
     "data": {
      "image/png": "[encoded data removed]",
      "text/plain": [
       "<Figure size 432x288 with 1 Axes>"
      ]
     },
     "metadata": {
      "needs_background": "light"
     },
     "output_type": "display_data"
    }
   ],
   "source": [
    "data_exp.RPM.plot()"
   ]
  },
  {
   "cell_type": "code",
   "execution_count": 18,
   "id": "6ce53c74",
   "metadata": {},
   "outputs": [
    {
     "data": {
      "text/plain": [
       "<AxesSubplot:xlabel='Time'>"
      ]
     },
     "execution_count": 18,
     "metadata": {},
     "output_type": "execute_result"
    },
    {
     "data": {
      "image/png": "[encoded data removed]",
      "text/plain": [
       "<Figure size 432x288 with 1 Axes>"
      ]
     },
     "metadata": {
      "needs_background": "light"
     },
     "output_type": "display_data"
    }
   ],
   "source": [
    "data_exp.TRQU.plot()"
   ]
  },
  {
   "cell_type": "code",
   "execution_count": 19,
   "id": "4db95ec3",
   "metadata": {},
   "outputs": [
    {
     "data": {
      "text/plain": [
       "array([[<AxesSubplot:title={'center':'RPM'}>,\n",
       "        <AxesSubplot:title={'center':'TRQU'}>]], dtype=object)"
      ]
     },
     "execution_count": 19,
     "metadata": {},
     "output_type": "execute_result"
    },
    {
     "data": {
      "image/png": "[encoded data removed]",
      "text/plain": [
       "<Figure size 432x288 with 2 Axes>"
      ]
     },
     "metadata": {
      "needs_background": "light"
     },
     "output_type": "display_data"
    }
   ],
   "source": [
    "data_exp.hist(color=\"k\", alpha=0.5, bins=50)"
   ]
  },
  {
   "cell_type": "code",
   "execution_count": 20,
   "id": "dbc83152",
   "metadata": {},
   "outputs": [
    {
     "data": {
      "text/plain": [
       "array([[<AxesSubplot:title={'center':'RPM'}>,\n",
       "        <AxesSubplot:title={'center':'TRQU'}>]], dtype=object)"
      ]
     },
     "execution_count": 20,
     "metadata": {},
     "output_type": "execute_result"
    },
    {
     "data": {
      "image/png": "[encoded data removed]",
      "text/plain": [
       "<Figure size 432x288 with 2 Axes>"
      ]
     },
     "metadata": {
      "needs_background": "light"
     },
     "output_type": "display_data"
    }
   ],
   "source": [
    "#Plot the difference between 2 consecutive values\n",
    "data_exp.diff().hist(color=\"k\", alpha=0.5, bins=50)"
   ]
  },
  {
   "cell_type": "code",
   "execution_count": 21,
   "id": "063711e0",
   "metadata": {},
   "outputs": [
    {
     "data": {
      "text/plain": [
       "RPM    0 days 00:02:34.917968800\n",
       "TRQU   0 days 00:01:23.585937500\n",
       "dtype: timedelta64[ns]"
      ]
     },
     "execution_count": 21,
     "metadata": {},
     "output_type": "execute_result"
    }
   ],
   "source": [
    "#Lest find where these big jumps occurs\n",
    "data_exp.diff().abs().idxmax()"
   ]
  },
  {
   "cell_type": "code",
   "execution_count": 22,
   "id": "55e84c30",
   "metadata": {},
   "outputs": [
    {
     "data": {
      "text/plain": [
       "RPM      3.176476\n",
       "TRQU    39.678812\n",
       "dtype: float64"
      ]
     },
     "execution_count": 22,
     "metadata": {},
     "output_type": "execute_result"
    }
   ],
   "source": [
    "#Lest find where the value of those big jumps\n",
    "data_exp.diff().max()"
   ]
  },
  {
   "cell_type": "code",
   "execution_count": 23,
   "id": "7bc5e245",
   "metadata": {},
   "outputs": [],
   "source": [
    "#Put the values into a variable\n",
    "Ind_max=data_exp.diff().abs().idxmax()"
   ]
  },
  {
   "cell_type": "code",
   "execution_count": 24,
   "id": "583de9b4",
   "metadata": {},
   "outputs": [
    {
     "data": {
      "text/plain": [
       "<AxesSubplot:xlabel='Time'>"
      ]
     },
     "execution_count": 24,
     "metadata": {},
     "output_type": "execute_result"
    },
    {
     "data": {
      "image/png": "[encoded data removed]",
      "text/plain": [
       "<Figure size 432x288 with 1 Axes>"
      ]
     },
     "metadata": {
      "needs_background": "light"
     },
     "output_type": "display_data"
    }
   ],
   "source": [
    "#Plot 0.5 seconds before and after the max values\n",
    "data_exp.diff().RPM[Ind_max[0]-pd.Timedelta(0.5,'seconds'):Ind_max[0]+pd.Timedelta(0.5,'seconds')].plot()"
   ]
  },
  {
   "cell_type": "code",
   "execution_count": 25,
   "id": "1ae9a843",
   "metadata": {},
   "outputs": [
    {
     "data": {
      "text/plain": [
       "<AxesSubplot:xlabel='Time'>"
      ]
     },
     "execution_count": 25,
     "metadata": {},
     "output_type": "execute_result"
    },
    {
     "data": {
      "image/png": "[encoded data removed]",
      "text/plain": [
       "<Figure size 432x288 with 1 Axes>"
      ]
     },
     "metadata": {
      "needs_background": "light"
     },
     "output_type": "display_data"
    }
   ],
   "source": [
    "#Plot 10 seconds before and after the max values\n",
    "data_exp.diff().TRQU[Ind_max[1]-pd.Timedelta(0.5,'seconds'):Ind_max[1]+pd.Timedelta(0.5,'seconds')].plot()"
   ]
  },
  {
   "cell_type": "code",
   "execution_count": 26,
   "id": "f9ff1dfb",
   "metadata": {},
   "outputs": [
    {
     "data": {
      "text/plain": [
       "<AxesSubplot:ylabel='Frequency'>"
      ]
     },
     "execution_count": 26,
     "metadata": {},
     "output_type": "execute_result"
    },
    {
     "data": {
      "image/png": "[encoded data removed]",
      "text/plain": [
       "<Figure size 432x288 with 1 Axes>"
      ]
     },
     "metadata": {
      "needs_background": "light"
     },
     "output_type": "display_data"
    }
   ],
   "source": [
    "data_exp.plot.hist(stacked=True, bins=20)"
   ]
  },
  {
   "cell_type": "code",
   "execution_count": 27,
   "id": "5c54ba87",
   "metadata": {},
   "outputs": [
    {
     "data": {
      "text/plain": [
       "<AxesSubplot:>"
      ]
     },
     "execution_count": 27,
     "metadata": {},
     "output_type": "execute_result"
    },
    {
     "data": {
      "image/png": "[encoded data removed]",
      "text/plain": [
       "<Figure size 432x288 with 1 Axes>"
      ]
     },
     "metadata": {
      "needs_background": "light"
     },
     "output_type": "display_data"
    }
   ],
   "source": [
    "data_exp.boxplot()"
   ]
  },
  {
   "cell_type": "code",
   "execution_count": 28,
   "id": "8fd16907",
   "metadata": {
    "scrolled": true
   },
   "outputs": [
    {
     "data": {
      "text/plain": [
       "array([[<AxesSubplot:xlabel='RPM', ylabel='RPM'>,\n",
       "        <AxesSubplot:xlabel='TRQU', ylabel='RPM'>],\n",
       "       [<AxesSubplot:xlabel='RPM', ylabel='TRQU'>,\n",
       "        <AxesSubplot:xlabel='TRQU', ylabel='TRQU'>]], dtype=object)"
      ]
     },
     "execution_count": 28,
     "metadata": {},
     "output_type": "execute_result"
    },
    {
     "data": {
      "image/png": "[encoded data removed]",
      "text/plain": [
       "<Figure size 432x432 with 4 Axes>"
      ]
     },
     "metadata": {
      "needs_background": "light"
     },
     "output_type": "display_data"
    }
   ],
   "source": [
    "pd.plotting.scatter_matrix(data_exp,alpha=0.2, figsize=(6, 6), diagonal=\"kde\")"
   ]
  },
  {
   "cell_type": "markdown",
   "id": "88cc691c",
   "metadata": {},
   "source": [
    "For more plots check https://pandas.pydata.org/pandas-docs/stable/user_guide/visualization.html"
   ]
  },
  {
   "cell_type": "markdown",
   "id": "dffa02fb",
   "metadata": {},
   "source": [
    "### Resample Data <a class=\"anchor\" id=\"section_1_5\"></a>"
   ]
  },
  {
   "cell_type": "code",
   "execution_count": 29,
   "id": "88bf78c3",
   "metadata": {},
   "outputs": [
    {
     "data": {
      "text/html": [
       "<div>\n",
       "<style scoped>\n",
       "    .dataframe tbody tr th:only-of-type {\n",
       "        vertical-align: middle;\n",
       "    }\n",
       "\n",
       "    .dataframe tbody tr th {\n",
       "        vertical-align: top;\n",
       "    }\n",
       "\n",
       "    .dataframe thead th {\n",
       "        text-align: right;\n",
       "    }\n",
       "</style>\n",
       "<table border=\"1\" class=\"dataframe\">\n",
       "  <thead>\n",
       "    <tr style=\"text-align: right;\">\n",
       "      <th></th>\n",
       "      <th>RPM</th>\n",
       "      <th>TRQU</th>\n",
       "    </tr>\n",
       "    <tr>\n",
       "      <th>Time</th>\n",
       "      <th></th>\n",
       "      <th></th>\n",
       "    </tr>\n",
       "  </thead>\n",
       "  <tbody>\n",
       "    <tr>\n",
       "      <th>0 days 00:00:00.003906250</th>\n",
       "      <td>89.692392</td>\n",
       "      <td>-11.202924</td>\n",
       "    </tr>\n",
       "    <tr>\n",
       "      <th>0 days 00:00:01.003906250</th>\n",
       "      <td>90.303957</td>\n",
       "      <td>-11.287820</td>\n",
       "    </tr>\n",
       "    <tr>\n",
       "      <th>0 days 00:00:02.003906250</th>\n",
       "      <td>90.080586</td>\n",
       "      <td>-13.033519</td>\n",
       "    </tr>\n",
       "    <tr>\n",
       "      <th>0 days 00:00:03.003906250</th>\n",
       "      <td>89.890164</td>\n",
       "      <td>-12.288385</td>\n",
       "    </tr>\n",
       "    <tr>\n",
       "      <th>0 days 00:00:04.003906250</th>\n",
       "      <td>90.278315</td>\n",
       "      <td>-13.369821</td>\n",
       "    </tr>\n",
       "    <tr>\n",
       "      <th>...</th>\n",
       "      <td>...</td>\n",
       "      <td>...</td>\n",
       "    </tr>\n",
       "    <tr>\n",
       "      <th>0 days 00:04:55.003906250</th>\n",
       "      <td>90.081341</td>\n",
       "      <td>-13.092642</td>\n",
       "    </tr>\n",
       "    <tr>\n",
       "      <th>0 days 00:04:56.003906250</th>\n",
       "      <td>90.106774</td>\n",
       "      <td>-13.217369</td>\n",
       "    </tr>\n",
       "    <tr>\n",
       "      <th>0 days 00:04:57.003906250</th>\n",
       "      <td>90.019026</td>\n",
       "      <td>-14.051275</td>\n",
       "    </tr>\n",
       "    <tr>\n",
       "      <th>0 days 00:04:58.003906250</th>\n",
       "      <td>89.608866</td>\n",
       "      <td>-13.700456</td>\n",
       "    </tr>\n",
       "    <tr>\n",
       "      <th>0 days 00:04:59.003906250</th>\n",
       "      <td>89.136798</td>\n",
       "      <td>-12.598839</td>\n",
       "    </tr>\n",
       "  </tbody>\n",
       "</table>\n",
       "<p>300 rows × 2 columns</p>\n",
       "</div>"
      ],
      "text/plain": [
       "                                 RPM       TRQU\n",
       "Time                                           \n",
       "0 days 00:00:00.003906250  89.692392 -11.202924\n",
       "0 days 00:00:01.003906250  90.303957 -11.287820\n",
       "0 days 00:00:02.003906250  90.080586 -13.033519\n",
       "0 days 00:00:03.003906250  89.890164 -12.288385\n",
       "0 days 00:00:04.003906250  90.278315 -13.369821\n",
       "...                              ...        ...\n",
       "0 days 00:04:55.003906250  90.081341 -13.092642\n",
       "0 days 00:04:56.003906250  90.106774 -13.217369\n",
       "0 days 00:04:57.003906250  90.019026 -14.051275\n",
       "0 days 00:04:58.003906250  89.608866 -13.700456\n",
       "0 days 00:04:59.003906250  89.136798 -12.598839\n",
       "\n",
       "[300 rows x 2 columns]"
      ]
     },
     "execution_count": 29,
     "metadata": {},
     "output_type": "execute_result"
    }
   ],
   "source": [
    "data_exp.resample('1S').mean()"
   ]
  },
  {
   "cell_type": "code",
   "execution_count": 30,
   "id": "1b99beaa",
   "metadata": {},
   "outputs": [
    {
     "data": {
      "text/plain": [
       "<AxesSubplot:xlabel='Time'>"
      ]
     },
     "execution_count": 30,
     "metadata": {},
     "output_type": "execute_result"
    },
    {
     "data": {
      "image/png": "[encoded data removed]",
      "text/plain": [
       "<Figure size 432x288 with 1 Axes>"
      ]
     },
     "metadata": {
      "needs_background": "light"
     },
     "output_type": "display_data"
    }
   ],
   "source": [
    "data_exp.TRQU.resample('1S').mean().plot()"
   ]
  },
  {
   "cell_type": "markdown",
   "id": "881cc95a",
   "metadata": {},
   "source": [
    "### Do the computations <a class=\"anchor\" id=\"section_1_6\"></a>"
   ]
  },
  {
   "cell_type": "code",
   "execution_count": 31,
   "id": "110d7ef7",
   "metadata": {},
   "outputs": [
    {
     "data": {
      "text/plain": [
       "Time\n",
       "0 days 00:00:00.003906250    9.429382\n",
       "0 days 00:00:00.007812500    9.326603\n",
       "0 days 00:00:00.011718750    9.420178\n",
       "0 days 00:00:00.015625       9.429382\n",
       "0 days 00:00:00.019531250    9.420178\n",
       "Name: Rad_per_s, dtype: float64"
      ]
     },
     "execution_count": 31,
     "metadata": {},
     "output_type": "execute_result"
    }
   ],
   "source": [
    "#Create a new colums\n",
    "data_exp['Rad_per_s']=data_exp.RPM*2*pi/60\n",
    "data_exp['Rad_per_s'].head()"
   ]
  },
  {
   "cell_type": "code",
   "execution_count": 32,
   "id": "63df46d4",
   "metadata": {},
   "outputs": [],
   "source": [
    "data_exp['Tip_Speed']=0.6*data_exp['Rad_per_s']\n",
    "data_exp['TSR']=data_exp['Tip_Speed']/0.8\n",
    "data_exp['Power']=abs(data_exp.TRQU*data_exp.Rad_per_s)\n",
    "data_exp['Cp']=data_exp['Power']/(0.5*1000*pi*0.6**2*0.8**3)"
   ]
  },
  {
   "cell_type": "code",
   "execution_count": 33,
   "id": "87f3a687",
   "metadata": {},
   "outputs": [
    {
     "data": {
      "text/html": [
       "<div>\n",
       "<style scoped>\n",
       "    .dataframe tbody tr th:only-of-type {\n",
       "        vertical-align: middle;\n",
       "    }\n",
       "\n",
       "    .dataframe tbody tr th {\n",
       "        vertical-align: top;\n",
       "    }\n",
       "\n",
       "    .dataframe thead th {\n",
       "        text-align: right;\n",
       "    }\n",
       "</style>\n",
       "<table border=\"1\" class=\"dataframe\">\n",
       "  <thead>\n",
       "    <tr style=\"text-align: right;\">\n",
       "      <th></th>\n",
       "      <th>RPM</th>\n",
       "      <th>TRQU</th>\n",
       "      <th>Rad_per_s</th>\n",
       "      <th>Tip_Speed</th>\n",
       "      <th>TSR</th>\n",
       "      <th>Power</th>\n",
       "      <th>Cp</th>\n",
       "    </tr>\n",
       "    <tr>\n",
       "      <th>Time</th>\n",
       "      <th></th>\n",
       "      <th></th>\n",
       "      <th></th>\n",
       "      <th></th>\n",
       "      <th></th>\n",
       "      <th></th>\n",
       "      <th></th>\n",
       "    </tr>\n",
       "  </thead>\n",
       "  <tbody>\n",
       "    <tr>\n",
       "      <th>0 days 00:00:00.003906250</th>\n",
       "      <td>90.043968</td>\n",
       "      <td>-11.167003</td>\n",
       "      <td>9.429382</td>\n",
       "      <td>5.657629</td>\n",
       "      <td>7.072037</td>\n",
       "      <td>105.297938</td>\n",
       "      <td>0.363687</td>\n",
       "    </tr>\n",
       "    <tr>\n",
       "      <th>0 days 00:00:00.007812500</th>\n",
       "      <td>89.062500</td>\n",
       "      <td>-10.904742</td>\n",
       "      <td>9.326603</td>\n",
       "      <td>5.595962</td>\n",
       "      <td>6.994952</td>\n",
       "      <td>101.704205</td>\n",
       "      <td>0.351274</td>\n",
       "    </tr>\n",
       "    <tr>\n",
       "      <th>0 days 00:00:00.011718750</th>\n",
       "      <td>89.956078</td>\n",
       "      <td>-11.220274</td>\n",
       "      <td>9.420178</td>\n",
       "      <td>5.652107</td>\n",
       "      <td>7.065134</td>\n",
       "      <td>105.696987</td>\n",
       "      <td>0.365065</td>\n",
       "    </tr>\n",
       "    <tr>\n",
       "      <th>0 days 00:00:00.015625</th>\n",
       "      <td>90.043968</td>\n",
       "      <td>-11.585353</td>\n",
       "      <td>9.429382</td>\n",
       "      <td>5.657629</td>\n",
       "      <td>7.072037</td>\n",
       "      <td>109.242721</td>\n",
       "      <td>0.377312</td>\n",
       "    </tr>\n",
       "    <tr>\n",
       "      <th>0 days 00:00:00.019531250</th>\n",
       "      <td>89.956078</td>\n",
       "      <td>-11.585353</td>\n",
       "      <td>9.420178</td>\n",
       "      <td>5.652107</td>\n",
       "      <td>7.065134</td>\n",
       "      <td>109.136091</td>\n",
       "      <td>0.376943</td>\n",
       "    </tr>\n",
       "  </tbody>\n",
       "</table>\n",
       "</div>"
      ],
      "text/plain": [
       "                                 RPM       TRQU  Rad_per_s  Tip_Speed  \\\n",
       "Time                                                                    \n",
       "0 days 00:00:00.003906250  90.043968 -11.167003   9.429382   5.657629   \n",
       "0 days 00:00:00.007812500  89.062500 -10.904742   9.326603   5.595962   \n",
       "0 days 00:00:00.011718750  89.956078 -11.220274   9.420178   5.652107   \n",
       "0 days 00:00:00.015625     90.043968 -11.585353   9.429382   5.657629   \n",
       "0 days 00:00:00.019531250  89.956078 -11.585353   9.420178   5.652107   \n",
       "\n",
       "                                TSR       Power        Cp  \n",
       "Time                                                       \n",
       "0 days 00:00:00.003906250  7.072037  105.297938  0.363687  \n",
       "0 days 00:00:00.007812500  6.994952  101.704205  0.351274  \n",
       "0 days 00:00:00.011718750  7.065134  105.696987  0.365065  \n",
       "0 days 00:00:00.015625     7.072037  109.242721  0.377312  \n",
       "0 days 00:00:00.019531250  7.065134  109.136091  0.376943  "
      ]
     },
     "execution_count": 33,
     "metadata": {},
     "output_type": "execute_result"
    }
   ],
   "source": [
    "data_exp.head()"
   ]
  },
  {
   "cell_type": "markdown",
   "id": "b3974903",
   "metadata": {},
   "source": [
    "### Get absolute mean value <a class=\"anchor\" id=\"section_1_7\"></a>"
   ]
  },
  {
   "cell_type": "code",
   "execution_count": 34,
   "id": "007f1302",
   "metadata": {},
   "outputs": [
    {
     "data": {
      "text/plain": [
       "RPM           89.815969\n",
       "TRQU          13.380836\n",
       "Rad_per_s      9.405506\n",
       "Tip_Speed      5.643304\n",
       "TSR            7.054130\n",
       "Power        125.859835\n",
       "Cp             0.434705\n",
       "dtype: float64"
      ]
     },
     "execution_count": 34,
     "metadata": {},
     "output_type": "execute_result"
    }
   ],
   "source": [
    "data_exp.abs().mean()"
   ]
  },
  {
   "cell_type": "markdown",
   "id": "09db603d",
   "metadata": {},
   "source": [
    "## Work with all the files  <a class=\"anchor\" id=\"chapter2\"></a>"
   ]
  },
  {
   "cell_type": "markdown",
   "id": "9ad48a38",
   "metadata": {},
   "source": [
    "###  Read, Compute and Join <a class=\"anchor\" id=\"section_2_1\"></a>"
   ]
  },
  {
   "cell_type": "code",
   "execution_count": 35,
   "id": "2f760576",
   "metadata": {},
   "outputs": [],
   "source": [
    "#Create List to allocate all the files\n",
    "All_files = []\n",
    "#Create sufix value\n",
    "i=1\n",
    "#Iterate throw all the files\n",
    "for filename in TA_files:\n",
    "    #read the file\n",
    "    df = pd.read_csv(filename,index_col=['Time'])\n",
    "    df.dropna(inplace=True)\n",
    "    df['Rad_per_s']=df.RPM*2*pi/60\n",
    "    df['Tip_Speed']=0.6*df['Rad_per_s']\n",
    "    df['TSR']=df['Tip_Speed']/0.8\n",
    "    df['Power']=abs(df.TRQU*df.Rad_per_s)\n",
    "    df['Cp']=df['Power']/(0.5*1000*pi*0.6**2*0.8**3)\n",
    "    #Append the file addinf the suffix\n",
    "    All_files.append(df.add_suffix('_'+str(i)))\n",
    "    #Increas the sufix\n",
    "    i+=1\n",
    "#Join all the files into one\n",
    "frame = pd.concat(All_files, axis=1)"
   ]
  },
  {
   "cell_type": "code",
   "execution_count": 36,
   "id": "3dc9492d",
   "metadata": {},
   "outputs": [
    {
     "data": {
      "text/html": [
       "<div>\n",
       "<style scoped>\n",
       "    .dataframe tbody tr th:only-of-type {\n",
       "        vertical-align: middle;\n",
       "    }\n",
       "\n",
       "    .dataframe tbody tr th {\n",
       "        vertical-align: top;\n",
       "    }\n",
       "\n",
       "    .dataframe thead th {\n",
       "        text-align: right;\n",
       "    }\n",
       "</style>\n",
       "<table border=\"1\" class=\"dataframe\">\n",
       "  <thead>\n",
       "    <tr style=\"text-align: right;\">\n",
       "      <th></th>\n",
       "      <th>RPM_1</th>\n",
       "      <th>TRQU_1</th>\n",
       "      <th>Rad_per_s_1</th>\n",
       "      <th>Tip_Speed_1</th>\n",
       "      <th>TSR_1</th>\n",
       "      <th>Power_1</th>\n",
       "      <th>Cp_1</th>\n",
       "      <th>RPM_2</th>\n",
       "      <th>TRQU_2</th>\n",
       "      <th>Rad_per_s_2</th>\n",
       "      <th>...</th>\n",
       "      <th>TSR_15</th>\n",
       "      <th>Power_15</th>\n",
       "      <th>Cp_15</th>\n",
       "      <th>RPM_16</th>\n",
       "      <th>TRQU_16</th>\n",
       "      <th>Rad_per_s_16</th>\n",
       "      <th>Tip_Speed_16</th>\n",
       "      <th>TSR_16</th>\n",
       "      <th>Power_16</th>\n",
       "      <th>Cp_16</th>\n",
       "    </tr>\n",
       "    <tr>\n",
       "      <th>Time</th>\n",
       "      <th></th>\n",
       "      <th></th>\n",
       "      <th></th>\n",
       "      <th></th>\n",
       "      <th></th>\n",
       "      <th></th>\n",
       "      <th></th>\n",
       "      <th></th>\n",
       "      <th></th>\n",
       "      <th></th>\n",
       "      <th></th>\n",
       "      <th></th>\n",
       "      <th></th>\n",
       "      <th></th>\n",
       "      <th></th>\n",
       "      <th></th>\n",
       "      <th></th>\n",
       "      <th></th>\n",
       "      <th></th>\n",
       "      <th></th>\n",
       "      <th></th>\n",
       "    </tr>\n",
       "  </thead>\n",
       "  <tbody>\n",
       "    <tr>\n",
       "      <th>0.000000</th>\n",
       "      <td>NaN</td>\n",
       "      <td>-10.994894</td>\n",
       "      <td>NaN</td>\n",
       "      <td>NaN</td>\n",
       "      <td>NaN</td>\n",
       "      <td>NaN</td>\n",
       "      <td>NaN</td>\n",
       "      <td>NaN</td>\n",
       "      <td>-10.646580</td>\n",
       "      <td>NaN</td>\n",
       "      <td>...</td>\n",
       "      <td>NaN</td>\n",
       "      <td>NaN</td>\n",
       "      <td>NaN</td>\n",
       "      <td>NaN</td>\n",
       "      <td>-10.646219</td>\n",
       "      <td>NaN</td>\n",
       "      <td>NaN</td>\n",
       "      <td>NaN</td>\n",
       "      <td>NaN</td>\n",
       "      <td>NaN</td>\n",
       "    </tr>\n",
       "    <tr>\n",
       "      <th>0.003906</th>\n",
       "      <td>90.043968</td>\n",
       "      <td>-11.167003</td>\n",
       "      <td>9.429382</td>\n",
       "      <td>5.657629</td>\n",
       "      <td>7.072037</td>\n",
       "      <td>105.297938</td>\n",
       "      <td>0.363687</td>\n",
       "      <td>51.764706</td>\n",
       "      <td>-20.127816</td>\n",
       "      <td>5.420787</td>\n",
       "      <td>...</td>\n",
       "      <td>6.037748</td>\n",
       "      <td>108.869726</td>\n",
       "      <td>0.376023</td>\n",
       "      <td>103.657585</td>\n",
       "      <td>-9.699250</td>\n",
       "      <td>10.854997</td>\n",
       "      <td>6.512998</td>\n",
       "      <td>8.141248</td>\n",
       "      <td>105.285331</td>\n",
       "      <td>0.363643</td>\n",
       "    </tr>\n",
       "    <tr>\n",
       "      <th>0.007812</th>\n",
       "      <td>89.062500</td>\n",
       "      <td>-10.904742</td>\n",
       "      <td>9.326603</td>\n",
       "      <td>5.595962</td>\n",
       "      <td>6.994952</td>\n",
       "      <td>101.704205</td>\n",
       "      <td>0.351274</td>\n",
       "      <td>50.625000</td>\n",
       "      <td>-21.226032</td>\n",
       "      <td>5.301438</td>\n",
       "      <td>...</td>\n",
       "      <td>6.037748</td>\n",
       "      <td>97.155702</td>\n",
       "      <td>0.335564</td>\n",
       "      <td>104.470596</td>\n",
       "      <td>-9.363229</td>\n",
       "      <td>10.940135</td>\n",
       "      <td>6.564081</td>\n",
       "      <td>8.205101</td>\n",
       "      <td>102.434992</td>\n",
       "      <td>0.353799</td>\n",
       "    </tr>\n",
       "    <tr>\n",
       "      <th>0.011719</th>\n",
       "      <td>89.956078</td>\n",
       "      <td>-11.220274</td>\n",
       "      <td>9.420178</td>\n",
       "      <td>5.652107</td>\n",
       "      <td>7.065134</td>\n",
       "      <td>105.696987</td>\n",
       "      <td>0.365065</td>\n",
       "      <td>51.562500</td>\n",
       "      <td>-20.648239</td>\n",
       "      <td>5.399612</td>\n",
       "      <td>...</td>\n",
       "      <td>6.037748</td>\n",
       "      <td>90.060110</td>\n",
       "      <td>0.311057</td>\n",
       "      <td>104.062500</td>\n",
       "      <td>-9.846772</td>\n",
       "      <td>10.897400</td>\n",
       "      <td>6.538440</td>\n",
       "      <td>8.173050</td>\n",
       "      <td>107.304205</td>\n",
       "      <td>0.370616</td>\n",
       "    </tr>\n",
       "    <tr>\n",
       "      <th>0.015625</th>\n",
       "      <td>90.043968</td>\n",
       "      <td>-11.585353</td>\n",
       "      <td>9.429382</td>\n",
       "      <td>5.657629</td>\n",
       "      <td>7.072037</td>\n",
       "      <td>109.242721</td>\n",
       "      <td>0.377312</td>\n",
       "      <td>50.625000</td>\n",
       "      <td>-20.185186</td>\n",
       "      <td>5.301438</td>\n",
       "      <td>...</td>\n",
       "      <td>5.964117</td>\n",
       "      <td>91.373217</td>\n",
       "      <td>0.315592</td>\n",
       "      <td>103.657585</td>\n",
       "      <td>-10.383959</td>\n",
       "      <td>10.854997</td>\n",
       "      <td>6.512998</td>\n",
       "      <td>8.141248</td>\n",
       "      <td>112.717838</td>\n",
       "      <td>0.389314</td>\n",
       "    </tr>\n",
       "  </tbody>\n",
       "</table>\n",
       "<p>5 rows × 112 columns</p>\n",
       "</div>"
      ],
      "text/plain": [
       "              RPM_1     TRQU_1  Rad_per_s_1  Tip_Speed_1     TSR_1  \\\n",
       "Time                                                                 \n",
       "0.000000        NaN -10.994894          NaN          NaN       NaN   \n",
       "0.003906  90.043968 -11.167003     9.429382     5.657629  7.072037   \n",
       "0.007812  89.062500 -10.904742     9.326603     5.595962  6.994952   \n",
       "0.011719  89.956078 -11.220274     9.420178     5.652107  7.065134   \n",
       "0.015625  90.043968 -11.585353     9.429382     5.657629  7.072037   \n",
       "\n",
       "             Power_1      Cp_1      RPM_2     TRQU_2  Rad_per_s_2  ...  \\\n",
       "Time                                                               ...   \n",
       "0.000000         NaN       NaN        NaN -10.646580          NaN  ...   \n",
       "0.003906  105.297938  0.363687  51.764706 -20.127816     5.420787  ...   \n",
       "0.007812  101.704205  0.351274  50.625000 -21.226032     5.301438  ...   \n",
       "0.011719  105.696987  0.365065  51.562500 -20.648239     5.399612  ...   \n",
       "0.015625  109.242721  0.377312  50.625000 -20.185186     5.301438  ...   \n",
       "\n",
       "            TSR_15    Power_15     Cp_15      RPM_16    TRQU_16  Rad_per_s_16  \\\n",
       "Time                                                                            \n",
       "0.000000       NaN         NaN       NaN         NaN -10.646219           NaN   \n",
       "0.003906  6.037748  108.869726  0.376023  103.657585  -9.699250     10.854997   \n",
       "0.007812  6.037748   97.155702  0.335564  104.470596  -9.363229     10.940135   \n",
       "0.011719  6.037748   90.060110  0.311057  104.062500  -9.846772     10.897400   \n",
       "0.015625  5.964117   91.373217  0.315592  103.657585 -10.383959     10.854997   \n",
       "\n",
       "          Tip_Speed_16    TSR_16    Power_16     Cp_16  \n",
       "Time                                                    \n",
       "0.000000           NaN       NaN         NaN       NaN  \n",
       "0.003906      6.512998  8.141248  105.285331  0.363643  \n",
       "0.007812      6.564081  8.205101  102.434992  0.353799  \n",
       "0.011719      6.538440  8.173050  107.304205  0.370616  \n",
       "0.015625      6.512998  8.141248  112.717838  0.389314  \n",
       "\n",
       "[5 rows x 112 columns]"
      ]
     },
     "execution_count": 36,
     "metadata": {},
     "output_type": "execute_result"
    }
   ],
   "source": [
    "frame.head()"
   ]
  },
  {
   "cell_type": "code",
   "execution_count": 37,
   "id": "eab304d4",
   "metadata": {},
   "outputs": [
    {
     "data": {
      "text/plain": [
       "(76800, 112)"
      ]
     },
     "execution_count": 37,
     "metadata": {},
     "output_type": "execute_result"
    }
   ],
   "source": [
    "frame.shape"
   ]
  },
  {
   "cell_type": "markdown",
   "id": "2de9cfb3",
   "metadata": {},
   "source": [
    "###  Get final values <a class=\"anchor\" id=\"section_2_2\"></a>"
   ]
  },
  {
   "cell_type": "code",
   "execution_count": 38,
   "id": "9c38c117",
   "metadata": {},
   "outputs": [],
   "source": [
    "#Get all the mean values\n",
    "mean_val=frame.abs().mean()"
   ]
  },
  {
   "cell_type": "code",
   "execution_count": 39,
   "id": "85c2dcef",
   "metadata": {},
   "outputs": [
    {
     "data": {
      "text/plain": [
       "RPM_1            89.815969\n",
       "TRQU_1           13.380804\n",
       "Rad_per_s_1       9.405506\n",
       "Tip_Speed_1       5.643304\n",
       "TSR_1             7.054130\n",
       "                   ...    \n",
       "Rad_per_s_16     10.752537\n",
       "Tip_Speed_16      6.451522\n",
       "TSR_16            8.064403\n",
       "Power_16        115.700474\n",
       "Cp_16             0.399616\n",
       "Length: 112, dtype: float64"
      ]
     },
     "execution_count": 39,
     "metadata": {},
     "output_type": "execute_result"
    }
   ],
   "source": [
    "mean_val"
   ]
  },
  {
   "cell_type": "code",
   "execution_count": 40,
   "id": "3e62bebe",
   "metadata": {},
   "outputs": [],
   "source": [
    "#Get the TSR and Cp columns\n",
    "TSR_col=[c for c in frame.columns if ('TSR'  in c) ]\n",
    "Cp_col=[c for c in frame.columns if ('Cp'  in c) ]"
   ]
  },
  {
   "cell_type": "code",
   "execution_count": 41,
   "id": "a87a05d0",
   "metadata": {},
   "outputs": [
    {
     "data": {
      "text/plain": [
       "(['TSR_1',\n",
       "  'TSR_2',\n",
       "  'TSR_3',\n",
       "  'TSR_4',\n",
       "  'TSR_5',\n",
       "  'TSR_6',\n",
       "  'TSR_7',\n",
       "  'TSR_8',\n",
       "  'TSR_9',\n",
       "  'TSR_10',\n",
       "  'TSR_11',\n",
       "  'TSR_12',\n",
       "  'TSR_13',\n",
       "  'TSR_14',\n",
       "  'TSR_15',\n",
       "  'TSR_16'],\n",
       " ['Cp_1',\n",
       "  'Cp_2',\n",
       "  'Cp_3',\n",
       "  'Cp_4',\n",
       "  'Cp_5',\n",
       "  'Cp_6',\n",
       "  'Cp_7',\n",
       "  'Cp_8',\n",
       "  'Cp_9',\n",
       "  'Cp_10',\n",
       "  'Cp_11',\n",
       "  'Cp_12',\n",
       "  'Cp_13',\n",
       "  'Cp_14',\n",
       "  'Cp_15',\n",
       "  'Cp_16'])"
      ]
     },
     "execution_count": 41,
     "metadata": {},
     "output_type": "execute_result"
    }
   ],
   "source": [
    "TSR_col,Cp_col"
   ]
  },
  {
   "cell_type": "code",
   "execution_count": 42,
   "id": "0ccd6b0b",
   "metadata": {},
   "outputs": [],
   "source": [
    "final=pd.DataFrame({'TSR':mean_val[TSR_col].values,'Cp':mean_val[Cp_col].values})"
   ]
  },
  {
   "cell_type": "code",
   "execution_count": 43,
   "id": "a6510c61",
   "metadata": {},
   "outputs": [
    {
     "data": {
      "text/html": [
       "<div>\n",
       "<style scoped>\n",
       "    .dataframe tbody tr th:only-of-type {\n",
       "        vertical-align: middle;\n",
       "    }\n",
       "\n",
       "    .dataframe tbody tr th {\n",
       "        vertical-align: top;\n",
       "    }\n",
       "\n",
       "    .dataframe thead th {\n",
       "        text-align: right;\n",
       "    }\n",
       "</style>\n",
       "<table border=\"1\" class=\"dataframe\">\n",
       "  <thead>\n",
       "    <tr style=\"text-align: right;\">\n",
       "      <th></th>\n",
       "      <th>TSR</th>\n",
       "      <th>Cp</th>\n",
       "    </tr>\n",
       "  </thead>\n",
       "  <tbody>\n",
       "    <tr>\n",
       "      <th>0</th>\n",
       "      <td>7.054130</td>\n",
       "      <td>0.434705</td>\n",
       "    </tr>\n",
       "    <tr>\n",
       "      <th>1</th>\n",
       "      <td>4.039502</td>\n",
       "      <td>0.390468</td>\n",
       "    </tr>\n",
       "    <tr>\n",
       "      <th>2</th>\n",
       "      <td>11.094922</td>\n",
       "      <td>0.254022</td>\n",
       "    </tr>\n",
       "    <tr>\n",
       "      <th>3</th>\n",
       "      <td>5.553937</td>\n",
       "      <td>0.441345</td>\n",
       "    </tr>\n",
       "    <tr>\n",
       "      <th>4</th>\n",
       "      <td>6.059034</td>\n",
       "      <td>0.439666</td>\n",
       "    </tr>\n",
       "    <tr>\n",
       "      <th>5</th>\n",
       "      <td>3.534362</td>\n",
       "      <td>0.271997</td>\n",
       "    </tr>\n",
       "    <tr>\n",
       "      <th>6</th>\n",
       "      <td>13.115196</td>\n",
       "      <td>0.092588</td>\n",
       "    </tr>\n",
       "    <tr>\n",
       "      <th>7</th>\n",
       "      <td>9.074380</td>\n",
       "      <td>0.370052</td>\n",
       "    </tr>\n",
       "    <tr>\n",
       "      <th>8</th>\n",
       "      <td>4.544573</td>\n",
       "      <td>0.427538</td>\n",
       "    </tr>\n",
       "    <tr>\n",
       "      <th>9</th>\n",
       "      <td>10.084589</td>\n",
       "      <td>0.311385</td>\n",
       "    </tr>\n",
       "    <tr>\n",
       "      <th>10</th>\n",
       "      <td>7.559134</td>\n",
       "      <td>0.419814</td>\n",
       "    </tr>\n",
       "    <tr>\n",
       "      <th>11</th>\n",
       "      <td>3.029348</td>\n",
       "      <td>0.164975</td>\n",
       "    </tr>\n",
       "    <tr>\n",
       "      <th>12</th>\n",
       "      <td>5.049684</td>\n",
       "      <td>0.435730</td>\n",
       "    </tr>\n",
       "    <tr>\n",
       "      <th>13</th>\n",
       "      <td>12.136118</td>\n",
       "      <td>0.185292</td>\n",
       "    </tr>\n",
       "    <tr>\n",
       "      <th>14</th>\n",
       "      <td>6.564195</td>\n",
       "      <td>0.434182</td>\n",
       "    </tr>\n",
       "    <tr>\n",
       "      <th>15</th>\n",
       "      <td>8.064403</td>\n",
       "      <td>0.399616</td>\n",
       "    </tr>\n",
       "  </tbody>\n",
       "</table>\n",
       "</div>"
      ],
      "text/plain": [
       "          TSR        Cp\n",
       "0    7.054130  0.434705\n",
       "1    4.039502  0.390468\n",
       "2   11.094922  0.254022\n",
       "3    5.553937  0.441345\n",
       "4    6.059034  0.439666\n",
       "5    3.534362  0.271997\n",
       "6   13.115196  0.092588\n",
       "7    9.074380  0.370052\n",
       "8    4.544573  0.427538\n",
       "9   10.084589  0.311385\n",
       "10   7.559134  0.419814\n",
       "11   3.029348  0.164975\n",
       "12   5.049684  0.435730\n",
       "13  12.136118  0.185292\n",
       "14   6.564195  0.434182\n",
       "15   8.064403  0.399616"
      ]
     },
     "execution_count": 43,
     "metadata": {},
     "output_type": "execute_result"
    }
   ],
   "source": [
    "final"
   ]
  },
  {
   "cell_type": "markdown",
   "id": "dc982efa",
   "metadata": {},
   "source": [
    "###  Final plots <a class=\"anchor\" id=\"section_2_3\"></a>"
   ]
  },
  {
   "cell_type": "code",
   "execution_count": 44,
   "id": "e19d8814",
   "metadata": {},
   "outputs": [
    {
     "data": {
      "image/png": "[encoded data removed]",
      "text/plain": [
       "<Figure size 432x288 with 2 Axes>"
      ]
     },
     "metadata": {
      "needs_background": "light"
     },
     "output_type": "display_data"
    }
   ],
   "source": [
    "ax=final.plot.scatter(x='TSR', y='Cp',c=final.index,colormap='plasma',xlabel='TSR')"
   ]
  },
  {
   "cell_type": "markdown",
   "id": "a7327a1f",
   "metadata": {},
   "source": [
    "More color maps at https://matplotlib.org/stable/tutorials/colors/colormaps.html"
   ]
  },
  {
   "cell_type": "code",
   "execution_count": 45,
   "id": "7463f283",
   "metadata": {},
   "outputs": [
    {
     "data": {
      "text/plain": [
       "<AxesSubplot:title={'center':'Final Plot'}, xlabel='TSR', ylabel='Cp'>"
      ]
     },
     "execution_count": 45,
     "metadata": {},
     "output_type": "execute_result"
    },
    {
     "data": {
      "image/png": "[encoded data removed]",
      "text/plain": [
       "<Figure size 432x288 with 1 Axes>"
      ]
     },
     "metadata": {
      "needs_background": "light"
     },
     "output_type": "display_data"
    }
   ],
   "source": [
    "final.sort_values(by=['TSR']).plot(x='TSR', y='Cp',title='Final Plot',grid=True,ylabel='Cp',marker='o')"
   ]
  },
  {
   "cell_type": "markdown",
   "id": "4012ff6d",
   "metadata": {},
   "source": [
    "We hope you like it"
   ]
  }
 ],
 "metadata": {
  "kernelspec": {
   "display_name": "Python 3",
   "language": "python",
   "name": "python3"
  },
  "language_info": {
   "codemirror_mode": {
    "name": "ipython",
    "version": 3
   },
   "file_extension": ".py",
   "mimetype": "text/x-python",
   "name": "python",
   "nbconvert_exporter": "python",
   "pygments_lexer": "ipython3",
   "version": "3.8.10"
  }
 },
 "nbformat": 4,
 "nbformat_minor": 5
}
